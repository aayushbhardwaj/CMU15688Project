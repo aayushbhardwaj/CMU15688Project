{
 "cells": [
  {
   "cell_type": "markdown",
   "metadata": {},
   "source": [
    "## Practical Data Science Final Project- 15688\n",
    "### Yelp Restaurant Recommender System\n",
    "##### By: Sri Siva Harish Kamma (srisivak), Aayush Bhardwaj (aayushb1), Khushboo Banwari (kbanwari)"
   ]
  },
  {
   "cell_type": "markdown",
   "metadata": {
    "colab_type": "text",
    "id": "WgVFESxDblJj"
   },
   "source": [
    "### Introduction\n",
    "\n",
    "Our primary objective is to develop a restaurant recommender system based on reviews posted by users on Yelp. This is used to determine the preferences of users and thus recommend new restaurants to them. We apply techniques learnt in Collaborative Filtering part of our lecture in class to predict how users would rate the restaurants they have not been to. \n",
    "\n",
    "There are a number of sources of information using which we can build the recommender system, for example, user-user, item-user and item-item. For this kind of a recommender system, we could use text of reviews, categories of restaurants a user has reviewed, location of the restaurants he has visited and rated to factor in his preferences. For this particular project, we will use 'user-restaurant' interactions of ratings of his previous visited restaurants. \n",
    "\n",
    "In our model, we aim to use this information to provide high quality recommendations to the user. There are a number of challenges that arise when a new restaurant is added or a new user signs up since this user does not have any previous instance of 'user-restaurant' interaction. Thus, we calculate similarity scores with existing users based on existing values of the user or item.\n",
    "\n",
    "Using Yelp’s API we extract data of user-restaurant interactions from which we extract collaborative and content based features to identify customer and restaurant. We evaluate the performance of the models using the Root Mean Squared Error (RMSE) metric and compare the models’ performances. "
   ]
  },
  {
   "cell_type": "markdown",
   "metadata": {},
   "source": [
    "### Content\n",
    "\n",
    "In this project, we will show how to create a restaurant recommender system using matrix factorization in Python.\n",
    "\n",
    "We have extracted data for reviews of multiple restaurants in Pittsburgh from the Yelp API. \n",
    "\n",
    "We will cover the following topics in this project:\n",
    "- [Importing the Libraries](#Importing-the-Libraries)\n",
    "- [Data Extraction](#Data-Extraction)\n",
    "- [Exploratory Data Analysis](#Exploratory-Data-Analysis)\n",
    "- [Recommender System](#Recommender-System)\n",
    "- [Results](#Results)\n",
    "- [Conclusions Limitations and Further work](#Conclusions-Limitations-and-Further-work)"
   ]
  },
  {
   "cell_type": "markdown",
   "metadata": {
    "colab_type": "text",
    "id": "JVlkIPCoglME"
   },
   "source": [
    "### Importing the Libraries "
   ]
  },
  {
   "cell_type": "code",
   "execution_count": 116,
   "metadata": {
    "colab": {
     "autoexec": {
      "startup": false,
      "wait_interval": 0
     }
    },
    "colab_type": "code",
    "id": "RhQ7TTdNiebc"
   },
   "outputs": [],
   "source": [
    "import io, time, json\n",
    "import requests\n",
    "from bs4 import BeautifulSoup\n",
    "import pandas as pd\n",
    "import matplotlib.pyplot as plt\n",
    "import seaborn as sns\n",
    "import numpy as np\n",
    "import random\n",
    "import matplotlib\n",
    "import math\n",
    "from scipy.sparse.linalg import svds\n",
    "matplotlib.use(\"svg\")\n",
    "%matplotlib inline\n",
    "plt.style.use(\"ggplot\")\n",
    "import warnings\n",
    "warnings.filterwarnings('ignore')"
   ]
  },
  {
   "cell_type": "markdown",
   "metadata": {},
   "source": [
    "### Data Extraction"
   ]
  },
  {
   "cell_type": "markdown",
   "metadata": {
    "colab_type": "text",
    "id": "5GxsS2IJN0Tz"
   },
   "source": [
    "The following function returns the raw HTML content of the URL passed in as an argument. "
   ]
  },
  {
   "cell_type": "code",
   "execution_count": 4,
   "metadata": {
    "colab": {
     "autoexec": {
      "startup": false,
      "wait_interval": 0
     }
    },
    "colab_type": "code",
    "collapsed": true,
    "id": "Y0jixfnJidxn"
   },
   "outputs": [],
   "source": [
    "def retrieve_html(url):\n",
    "    \"\"\"\n",
    "    Return the raw HTML at the specified URL.\n",
    "\n",
    "    Args:\n",
    "        url (string): url of the restaurant on Yelp\n",
    "\n",
    "    Returns:\n",
    "        status_code (integer): status code returned by the request\n",
    "        raw_html (string): the raw HTML content of the response, properly encoded according to the HTTP headers.\n",
    "    \"\"\"\n",
    "    \n",
    "    response = requests.get(url)\n",
    "    return (response.status_code, response.text)\n",
    "    pass\n"
   ]
  },
  {
   "cell_type": "markdown",
   "metadata": {
    "colab_type": "text",
    "id": "NdzqUQ0iT96B"
   },
   "source": [
    "The following function retrieves all the restaurants from Yelp given a query (location), using an API key. "
   ]
  },
  {
   "cell_type": "code",
   "execution_count": 5,
   "metadata": {
    "colab": {
     "autoexec": {
      "startup": false,
      "wait_interval": 0
     }
    },
    "colab_type": "code",
    "collapsed": true,
    "id": "Hc01eSZjjRrF"
   },
   "outputs": [],
   "source": [
    "def all_restaurants(api_key, query):\n",
    "    \"\"\"\n",
    "    Retrieve ALL the restaurants on Yelp for a given query.\n",
    "\n",
    "    Args:\n",
    "        query (string): Search term\n",
    "\n",
    "    Returns:\n",
    "        results (list): list of dicts representing each business\n",
    "    \"\"\"\n",
    "    headers = {\"Authorization\": \"bearer \" + api_key}\n",
    "    params = {\"location\": query, \"categories\": \"restaurants\", \"limit\": 20, \"offset\": 0}\n",
    "    allRestaurantNameList = []\n",
    "    allRestaurantURLList = []\n",
    "    continueCallingYelpAPI = True\n",
    "    while (continueCallingYelpAPI):\n",
    "        response = requests.get(\"https://api.yelp.com/v3/businesses/search\", headers=headers, params=params)\n",
    "        \n",
    "        myJson = (response.json())\n",
    "        \n",
    "        allRestaurantNameList.extend(list(myJson['businesses']))\n",
    "        if(len(list(myJson['businesses'])) < 20):\n",
    "            continueCallingYelpAPI = False\n",
    "        else: \n",
    "            params[\"offset\"] = params[\"offset\"] + 20\n",
    "            time.sleep(.200)\n",
    "    return allRestaurantNameList\n",
    "    pass\n"
   ]
  },
  {
   "cell_type": "markdown",
   "metadata": {},
   "source": [
    "Here, we extract all restaurants in Knoxville, Pittsburgh. We have also extracted data for other locations like Oakland, Polish Hill and Shadyside. The data of Knoxville is shown here, the others are added onto the dataset as well. "
   ]
  },
  {
   "cell_type": "code",
   "execution_count": 124,
   "metadata": {},
   "outputs": [
    {
     "data": {
      "text/plain": [
       "[{'alias': 'alla-famiglia-pittsburgh',\n",
       "  'categories': [{'alias': 'italian', 'title': 'Italian'}],\n",
       "  'coordinates': {'latitude': 40.42161, 'longitude': -79.99346},\n",
       "  'display_phone': '(412) 488-1440',\n",
       "  'distance': 978.4383300765214,\n",
       "  'id': 'vNQkym5qZ-E-4AJ4IQ5JEg',\n",
       "  'image_url': 'https://s3-media2.fl.yelpcdn.com/bphoto/6HtXOsbIxpm6dUxd2JnCJg/o.jpg',\n",
       "  'is_closed': False,\n",
       "  'location': {'address1': '804 E Warrington Ave',\n",
       "   'address2': '',\n",
       "   'address3': '',\n",
       "   'city': 'Pittsburgh',\n",
       "   'country': 'US',\n",
       "   'display_address': ['804 E Warrington Ave', 'Pittsburgh, PA 15210'],\n",
       "   'state': 'PA',\n",
       "   'zip_code': '15210'},\n",
       "  'name': 'Alla Famiglia',\n",
       "  'phone': '+14124881440',\n",
       "  'price': '$$$$',\n",
       "  'rating': 4.5,\n",
       "  'review_count': 177,\n",
       "  'transactions': [],\n",
       "  'url': 'https://www.yelp.com/biz/alla-famiglia-pittsburgh?adjust_creative=2iUepcQcEkBeAKNYB-HNAA&utm_campaign=yelp_api_v3&utm_medium=api_v3_business_search&utm_source=2iUepcQcEkBeAKNYB-HNAA'},\n",
       " {'alias': 'fat-heads-saloon-pittsburgh',\n",
       "  'categories': [{'alias': 'tradamerican', 'title': 'American (Traditional)'}],\n",
       "  'coordinates': {'latitude': 40.42897, 'longitude': -79.98022},\n",
       "  'display_phone': '(412) 431-7433',\n",
       "  'distance': 2081.1477288758465,\n",
       "  'id': 'LQFmktF43j2NPncKdNd9mg',\n",
       "  'image_url': 'https://s3-media4.fl.yelpcdn.com/bphoto/0WEM3KzBtwBq21232FDDwQ/o.jpg',\n",
       "  'is_closed': False,\n",
       "  'location': {'address1': '1805 E Carson St',\n",
       "   'address2': '',\n",
       "   'address3': '',\n",
       "   'city': 'Pittsburgh',\n",
       "   'country': 'US',\n",
       "   'display_address': ['1805 E Carson St', 'Pittsburgh, PA 15203'],\n",
       "   'state': 'PA',\n",
       "   'zip_code': '15203'},\n",
       "  'name': 'Fat Heads Saloon',\n",
       "  'phone': '+14124317433',\n",
       "  'price': '$$',\n",
       "  'rating': 4.0,\n",
       "  'review_count': 677,\n",
       "  'transactions': ['pickup', 'delivery'],\n",
       "  'url': 'https://www.yelp.com/biz/fat-heads-saloon-pittsburgh?adjust_creative=2iUepcQcEkBeAKNYB-HNAA&utm_campaign=yelp_api_v3&utm_medium=api_v3_business_search&utm_source=2iUepcQcEkBeAKNYB-HNAA'},\n",
       " {'alias': 'onion-maiden-pittsburgh',\n",
       "  'categories': [{'alias': 'vegan', 'title': 'Vegan'},\n",
       "   {'alias': 'vegetarian', 'title': 'Vegetarian'},\n",
       "   {'alias': 'asianfusion', 'title': 'Asian Fusion'}],\n",
       "  'coordinates': {'latitude': 40.4218526, 'longitude': -79.9967605},\n",
       "  'display_phone': '(412) 586-7347',\n",
       "  'distance': 1045.239645732068,\n",
       "  'id': 'dBCDRobULrxeSDvQyudcKQ',\n",
       "  'image_url': 'https://s3-media4.fl.yelpcdn.com/bphoto/HO_5BlRGNaF9rgVfvrLLLw/o.jpg',\n",
       "  'is_closed': False,\n",
       "  'location': {'address1': '639 E Warrington Ave',\n",
       "   'address2': '',\n",
       "   'address3': '',\n",
       "   'city': 'Pittsburgh',\n",
       "   'country': 'US',\n",
       "   'display_address': ['639 E Warrington Ave', 'Pittsburgh, PA 15210'],\n",
       "   'state': 'PA',\n",
       "   'zip_code': '15210'},\n",
       "  'name': 'Onion Maiden',\n",
       "  'phone': '+14125867347',\n",
       "  'price': '$$',\n",
       "  'rating': 4.5,\n",
       "  'review_count': 75,\n",
       "  'transactions': [],\n",
       "  'url': 'https://www.yelp.com/biz/onion-maiden-pittsburgh?adjust_creative=2iUepcQcEkBeAKNYB-HNAA&utm_campaign=yelp_api_v3&utm_medium=api_v3_business_search&utm_source=2iUepcQcEkBeAKNYB-HNAA'},\n",
       " {'alias': 'pipers-pub-pittsburgh',\n",
       "  'categories': [{'alias': 'british', 'title': 'British'},\n",
       "   {'alias': 'irish', 'title': 'Irish'},\n",
       "   {'alias': 'pubs', 'title': 'Pubs'}],\n",
       "  'coordinates': {'latitude': 40.4284324645996,\n",
       "   'longitude': -79.9794692993164},\n",
       "  'display_phone': '(412) 381-3977',\n",
       "  'distance': 2063.180531457278,\n",
       "  'id': 'VxRlBe2wjtycFWSZm1orTA',\n",
       "  'image_url': 'https://s3-media3.fl.yelpcdn.com/bphoto/1kjBBbNjwOJ_0ii8U9P3Hg/o.jpg',\n",
       "  'is_closed': False,\n",
       "  'location': {'address1': '1828 E Carson St',\n",
       "   'address2': '',\n",
       "   'address3': '',\n",
       "   'city': 'Pittsburgh',\n",
       "   'country': 'US',\n",
       "   'display_address': ['1828 E Carson St', 'Pittsburgh, PA 15203'],\n",
       "   'state': 'PA',\n",
       "   'zip_code': '15203'},\n",
       "  'name': \"Piper's Pub\",\n",
       "  'phone': '+14123813977',\n",
       "  'price': '$$',\n",
       "  'rating': 4.5,\n",
       "  'review_count': 333,\n",
       "  'transactions': [],\n",
       "  'url': 'https://www.yelp.com/biz/pipers-pub-pittsburgh?adjust_creative=2iUepcQcEkBeAKNYB-HNAA&utm_campaign=yelp_api_v3&utm_medium=api_v3_business_search&utm_source=2iUepcQcEkBeAKNYB-HNAA'},\n",
       " {'alias': 'doce-taqueria-pittsburgh',\n",
       "  'categories': [{'alias': 'mexican', 'title': 'Mexican'},\n",
       "   {'alias': 'foodtrucks', 'title': 'Food Trucks'}],\n",
       "  'coordinates': {'latitude': 40.42859, 'longitude': -79.9855199},\n",
       "  'display_phone': '(412) 238-8518',\n",
       "  'distance': 1853.256671331463,\n",
       "  'id': '_ucDskZqK5w1QHkoA_nlRw',\n",
       "  'image_url': 'https://s3-media3.fl.yelpcdn.com/bphoto/pPjqYDe-aU9xyfupwQNjdw/o.jpg',\n",
       "  'is_closed': False,\n",
       "  'location': {'address1': '1220 E Carson St',\n",
       "   'address2': '',\n",
       "   'address3': '',\n",
       "   'city': 'Pittsburgh',\n",
       "   'country': 'US',\n",
       "   'display_address': ['1220 E Carson St', 'Pittsburgh, PA 15203'],\n",
       "   'state': 'PA',\n",
       "   'zip_code': '15203'},\n",
       "  'name': 'Doce Taqueria',\n",
       "  'phone': '+14122388518',\n",
       "  'price': '$',\n",
       "  'rating': 4.5,\n",
       "  'review_count': 208,\n",
       "  'transactions': [],\n",
       "  'url': 'https://www.yelp.com/biz/doce-taqueria-pittsburgh?adjust_creative=2iUepcQcEkBeAKNYB-HNAA&utm_campaign=yelp_api_v3&utm_medium=api_v3_business_search&utm_source=2iUepcQcEkBeAKNYB-HNAA'}]"
      ]
     },
     "execution_count": 124,
     "metadata": {},
     "output_type": "execute_result"
    }
   ],
   "source": [
    "allRestaurantNameList = all_restaurants(key, 'Knoxville, Pittsburgh')\n",
    "allRestaurantNameList[:5]"
   ]
  },
  {
   "cell_type": "markdown",
   "metadata": {
    "colab_type": "text",
    "id": "PZaMyI6OasOZ"
   },
   "source": [
    "First, we create a dataframe of restaurant names and their URLs"
   ]
  },
  {
   "cell_type": "code",
   "execution_count": 125,
   "metadata": {
    "colab": {
     "autoexec": {
      "startup": false,
      "wait_interval": 0
     },
     "base_uri": "https://localhost:8080/",
     "height": 1949
    },
    "colab_type": "code",
    "executionInfo": {
     "elapsed": 328,
     "status": "ok",
     "timestamp": 1525814343401,
     "user": {
      "displayName": "Khushboo Banwari",
      "photoUrl": "//lh3.googleusercontent.com/-q6l8ETTWqtI/AAAAAAAAAAI/AAAAAAAApwY/pHz80IWRwcc/s50-c-k-no/photo.jpg",
      "userId": "101207566039042286084"
     },
     "user_tz": 240
    },
    "id": "8HyFnGrDlyUM",
    "outputId": "5a402fb5-ef3e-4db7-e112-18d882930911"
   },
   "outputs": [
    {
     "data": {
      "text/html": [
       "<div>\n",
       "<style>\n",
       "    .dataframe thead tr:only-child th {\n",
       "        text-align: right;\n",
       "    }\n",
       "\n",
       "    .dataframe thead th {\n",
       "        text-align: left;\n",
       "    }\n",
       "\n",
       "    .dataframe tbody tr th {\n",
       "        vertical-align: top;\n",
       "    }\n",
       "</style>\n",
       "<table border=\"1\" class=\"dataframe\">\n",
       "  <thead>\n",
       "    <tr style=\"text-align: right;\">\n",
       "      <th></th>\n",
       "      <th>name</th>\n",
       "      <th>url</th>\n",
       "    </tr>\n",
       "  </thead>\n",
       "  <tbody>\n",
       "    <tr>\n",
       "      <th>0</th>\n",
       "      <td>Alla Famiglia</td>\n",
       "      <td>https://www.yelp.com/biz/alla-famiglia-pittsbu...</td>\n",
       "    </tr>\n",
       "    <tr>\n",
       "      <th>1</th>\n",
       "      <td>Fat Heads Saloon</td>\n",
       "      <td>https://www.yelp.com/biz/fat-heads-saloon-pitt...</td>\n",
       "    </tr>\n",
       "    <tr>\n",
       "      <th>2</th>\n",
       "      <td>Onion Maiden</td>\n",
       "      <td>https://www.yelp.com/biz/onion-maiden-pittsbur...</td>\n",
       "    </tr>\n",
       "    <tr>\n",
       "      <th>3</th>\n",
       "      <td>Piper's Pub</td>\n",
       "      <td>https://www.yelp.com/biz/pipers-pub-pittsburgh...</td>\n",
       "    </tr>\n",
       "    <tr>\n",
       "      <th>4</th>\n",
       "      <td>Doce Taqueria</td>\n",
       "      <td>https://www.yelp.com/biz/doce-taqueria-pittsbu...</td>\n",
       "    </tr>\n",
       "  </tbody>\n",
       "</table>\n",
       "</div>"
      ],
      "text/plain": [
       "               name                                                url\n",
       "0     Alla Famiglia  https://www.yelp.com/biz/alla-famiglia-pittsbu...\n",
       "1  Fat Heads Saloon  https://www.yelp.com/biz/fat-heads-saloon-pitt...\n",
       "2      Onion Maiden  https://www.yelp.com/biz/onion-maiden-pittsbur...\n",
       "3       Piper's Pub  https://www.yelp.com/biz/pipers-pub-pittsburgh...\n",
       "4     Doce Taqueria  https://www.yelp.com/biz/doce-taqueria-pittsbu..."
      ]
     },
     "execution_count": 125,
     "metadata": {},
     "output_type": "execute_result"
    }
   ],
   "source": [
    "dfAllRes=pd.DataFrame(allRestaurantNameList)\n",
    "dfAllRes1=pd.DataFrame(dfAllRes[['name','url']])\n",
    "dfAllRes1.head()"
   ]
  },
  {
   "cell_type": "markdown",
   "metadata": {
    "colab_type": "text",
    "id": "6SjiFi5Sa2el"
   },
   "source": [
    "Extracting addresses of the restaurants for adding on to the dataframe."
   ]
  },
  {
   "cell_type": "code",
   "execution_count": 127,
   "metadata": {
    "colab": {
     "autoexec": {
      "startup": false,
      "wait_interval": 0
     }
    },
    "colab_type": "code",
    "id": "WlkY9bl8mTNa"
   },
   "outputs": [
    {
     "data": {
      "text/html": [
       "<div>\n",
       "<style>\n",
       "    .dataframe thead tr:only-child th {\n",
       "        text-align: right;\n",
       "    }\n",
       "\n",
       "    .dataframe thead th {\n",
       "        text-align: left;\n",
       "    }\n",
       "\n",
       "    .dataframe tbody tr th {\n",
       "        vertical-align: top;\n",
       "    }\n",
       "</style>\n",
       "<table border=\"1\" class=\"dataframe\">\n",
       "  <thead>\n",
       "    <tr style=\"text-align: right;\">\n",
       "      <th></th>\n",
       "      <th>location</th>\n",
       "      <th>neighborhood</th>\n",
       "    </tr>\n",
       "  </thead>\n",
       "  <tbody>\n",
       "    <tr>\n",
       "      <th>0</th>\n",
       "      <td>804 E Warrington Ave</td>\n",
       "      <td>Knoxville</td>\n",
       "    </tr>\n",
       "    <tr>\n",
       "      <th>1</th>\n",
       "      <td>1805 E Carson St</td>\n",
       "      <td>Knoxville</td>\n",
       "    </tr>\n",
       "    <tr>\n",
       "      <th>2</th>\n",
       "      <td>639 E Warrington Ave</td>\n",
       "      <td>Knoxville</td>\n",
       "    </tr>\n",
       "    <tr>\n",
       "      <th>3</th>\n",
       "      <td>1828 E Carson St</td>\n",
       "      <td>Knoxville</td>\n",
       "    </tr>\n",
       "    <tr>\n",
       "      <th>4</th>\n",
       "      <td>1220 E Carson St</td>\n",
       "      <td>Knoxville</td>\n",
       "    </tr>\n",
       "  </tbody>\n",
       "</table>\n",
       "</div>"
      ],
      "text/plain": [
       "               location neighborhood\n",
       "0  804 E Warrington Ave    Knoxville\n",
       "1      1805 E Carson St    Knoxville\n",
       "2  639 E Warrington Ave    Knoxville\n",
       "3      1828 E Carson St    Knoxville\n",
       "4      1220 E Carson St    Knoxville"
      ]
     },
     "execution_count": 127,
     "metadata": {},
     "output_type": "execute_result"
    }
   ],
   "source": [
    "def extract_address(location): \n",
    "    return location.get('address1')\n",
    "pass\n",
    "dfAllRes2=dfAllRes['location'].apply(extract_address)\n",
    "dfAllRes2=pd.DataFrame(dfAllRes2)\n",
    "dfAllRes2['neighborhood']='Knoxville'\n",
    "dfAllRes2.head()"
   ]
  },
  {
   "cell_type": "markdown",
   "metadata": {
    "colab_type": "text",
    "id": "WpBZr8Umbjjk"
   },
   "source": [
    "Extracting the categories of the restaurants and adding on to the dataframe."
   ]
  },
  {
   "cell_type": "code",
   "execution_count": 128,
   "metadata": {
    "colab": {
     "autoexec": {
      "startup": false,
      "wait_interval": 0
     }
    },
    "colab_type": "code",
    "id": "GnzL-b1opHvO"
   },
   "outputs": [
    {
     "data": {
      "text/html": [
       "<div>\n",
       "<style>\n",
       "    .dataframe thead tr:only-child th {\n",
       "        text-align: right;\n",
       "    }\n",
       "\n",
       "    .dataframe thead th {\n",
       "        text-align: left;\n",
       "    }\n",
       "\n",
       "    .dataframe tbody tr th {\n",
       "        vertical-align: top;\n",
       "    }\n",
       "</style>\n",
       "<table border=\"1\" class=\"dataframe\">\n",
       "  <thead>\n",
       "    <tr style=\"text-align: right;\">\n",
       "      <th></th>\n",
       "      <th>categories</th>\n",
       "    </tr>\n",
       "  </thead>\n",
       "  <tbody>\n",
       "    <tr>\n",
       "      <th>0</th>\n",
       "      <td>Italian</td>\n",
       "    </tr>\n",
       "    <tr>\n",
       "      <th>1</th>\n",
       "      <td>American (Traditional)</td>\n",
       "    </tr>\n",
       "    <tr>\n",
       "      <th>2</th>\n",
       "      <td>Vegan, Vegetarian, Asian Fusion</td>\n",
       "    </tr>\n",
       "    <tr>\n",
       "      <th>3</th>\n",
       "      <td>British, Irish, Pubs</td>\n",
       "    </tr>\n",
       "    <tr>\n",
       "      <th>4</th>\n",
       "      <td>Mexican, Food Trucks</td>\n",
       "    </tr>\n",
       "  </tbody>\n",
       "</table>\n",
       "</div>"
      ],
      "text/plain": [
       "                        categories\n",
       "0                          Italian\n",
       "1           American (Traditional)\n",
       "2  Vegan, Vegetarian, Asian Fusion\n",
       "3             British, Irish, Pubs\n",
       "4             Mexican, Food Trucks"
      ]
     },
     "execution_count": 128,
     "metadata": {},
     "output_type": "execute_result"
    }
   ],
   "source": [
    "def extract_categories(categories):\n",
    "    allCategories=''\n",
    "    for elem in categories:\n",
    "        allCategories=allCategories+', '+elem.get('title') \n",
    "    allCategories=allCategories[2:]\n",
    "    return allCategories\n",
    "pass\n",
    "\n",
    "dfAllRes3=dfAllRes['categories'].apply(extract_categories)\n",
    "dfAllRes3=pd.DataFrame(dfAllRes3)\n",
    "dfAllRes3.head()"
   ]
  },
  {
   "cell_type": "markdown",
   "metadata": {
    "colab_type": "text",
    "id": "ZlkJAVdmcpwb"
   },
   "source": [
    "Concatenating the above dataframes to create our dataset.The resulting dataset has restaurant name, URL, location and category. "
   ]
  },
  {
   "cell_type": "code",
   "execution_count": 129,
   "metadata": {
    "colab": {
     "autoexec": {
      "startup": false,
      "wait_interval": 0
     },
     "base_uri": "https://localhost:8080/",
     "height": 1882
    },
    "colab_type": "code",
    "executionInfo": {
     "elapsed": 357,
     "status": "ok",
     "timestamp": 1525814402083,
     "user": {
      "displayName": "aayush bhardwaj",
      "photoUrl": "//lh3.googleusercontent.com/-Jrw74eIj6RM/AAAAAAAAAAI/AAAAAAAAMUA/8sQLK_c29E4/s50-c-k-no/photo.jpg",
      "userId": "117996357821944499701"
     },
     "user_tz": 240
    },
    "id": "SMVARt2F8vef",
    "outputId": "0beb848f-787b-409d-e568-5a00eec932e5"
   },
   "outputs": [
    {
     "data": {
      "text/html": [
       "<div>\n",
       "<style>\n",
       "    .dataframe thead tr:only-child th {\n",
       "        text-align: right;\n",
       "    }\n",
       "\n",
       "    .dataframe thead th {\n",
       "        text-align: left;\n",
       "    }\n",
       "\n",
       "    .dataframe tbody tr th {\n",
       "        vertical-align: top;\n",
       "    }\n",
       "</style>\n",
       "<table border=\"1\" class=\"dataframe\">\n",
       "  <thead>\n",
       "    <tr style=\"text-align: right;\">\n",
       "      <th></th>\n",
       "      <th>name</th>\n",
       "      <th>url</th>\n",
       "      <th>location</th>\n",
       "      <th>neighborhood</th>\n",
       "      <th>categories</th>\n",
       "    </tr>\n",
       "  </thead>\n",
       "  <tbody>\n",
       "    <tr>\n",
       "      <th>0</th>\n",
       "      <td>Alla Famiglia</td>\n",
       "      <td>https://www.yelp.com/biz/alla-famiglia-pittsbu...</td>\n",
       "      <td>804 E Warrington Ave</td>\n",
       "      <td>Knoxville</td>\n",
       "      <td>Italian</td>\n",
       "    </tr>\n",
       "    <tr>\n",
       "      <th>1</th>\n",
       "      <td>Fat Heads Saloon</td>\n",
       "      <td>https://www.yelp.com/biz/fat-heads-saloon-pitt...</td>\n",
       "      <td>1805 E Carson St</td>\n",
       "      <td>Knoxville</td>\n",
       "      <td>American (Traditional)</td>\n",
       "    </tr>\n",
       "    <tr>\n",
       "      <th>2</th>\n",
       "      <td>Onion Maiden</td>\n",
       "      <td>https://www.yelp.com/biz/onion-maiden-pittsbur...</td>\n",
       "      <td>639 E Warrington Ave</td>\n",
       "      <td>Knoxville</td>\n",
       "      <td>Vegan, Vegetarian, Asian Fusion</td>\n",
       "    </tr>\n",
       "    <tr>\n",
       "      <th>3</th>\n",
       "      <td>Piper's Pub</td>\n",
       "      <td>https://www.yelp.com/biz/pipers-pub-pittsburgh...</td>\n",
       "      <td>1828 E Carson St</td>\n",
       "      <td>Knoxville</td>\n",
       "      <td>British, Irish, Pubs</td>\n",
       "    </tr>\n",
       "    <tr>\n",
       "      <th>4</th>\n",
       "      <td>Doce Taqueria</td>\n",
       "      <td>https://www.yelp.com/biz/doce-taqueria-pittsbu...</td>\n",
       "      <td>1220 E Carson St</td>\n",
       "      <td>Knoxville</td>\n",
       "      <td>Mexican, Food Trucks</td>\n",
       "    </tr>\n",
       "  </tbody>\n",
       "</table>\n",
       "</div>"
      ],
      "text/plain": [
       "               name                                                url  \\\n",
       "0     Alla Famiglia  https://www.yelp.com/biz/alla-famiglia-pittsbu...   \n",
       "1  Fat Heads Saloon  https://www.yelp.com/biz/fat-heads-saloon-pitt...   \n",
       "2      Onion Maiden  https://www.yelp.com/biz/onion-maiden-pittsbur...   \n",
       "3       Piper's Pub  https://www.yelp.com/biz/pipers-pub-pittsburgh...   \n",
       "4     Doce Taqueria  https://www.yelp.com/biz/doce-taqueria-pittsbu...   \n",
       "\n",
       "               location neighborhood                       categories  \n",
       "0  804 E Warrington Ave    Knoxville                          Italian  \n",
       "1      1805 E Carson St    Knoxville           American (Traditional)  \n",
       "2  639 E Warrington Ave    Knoxville  Vegan, Vegetarian, Asian Fusion  \n",
       "3      1828 E Carson St    Knoxville             British, Irish, Pubs  \n",
       "4      1220 E Carson St    Knoxville             Mexican, Food Trucks  "
      ]
     },
     "execution_count": 129,
     "metadata": {},
     "output_type": "execute_result"
    }
   ],
   "source": [
    "dfAllRestaurants=pd.concat([dfAllRes1, dfAllRes2, dfAllRes3], axis=1)\n",
    "dfAllRestaurants.head()"
   ]
  },
  {
   "cell_type": "markdown",
   "metadata": {
    "colab_type": "text",
    "id": "dvlxsa3HdrDb"
   },
   "source": [
    "The following function returns a paginated list of reviews given the html corresponding to a Yelp restaurant. \n",
    "\n",
    "\n",
    "\n"
   ]
  },
  {
   "cell_type": "code",
   "execution_count": 130,
   "metadata": {
    "colab": {
     "autoexec": {
      "startup": false,
      "wait_interval": 0
     }
    },
    "colab_type": "code",
    "collapsed": true,
    "id": "XxOFKtvpjTsn"
   },
   "outputs": [],
   "source": [
    "def parse_my_page(html):\n",
    "    \"\"\"\n",
    "    Parse the reviews on a single page of a restaurant.\n",
    "    \n",
    "    Args:\n",
    "        html (string): String of HTML corresponding to a Yelp restaurant\n",
    "\n",
    "    Returns:\n",
    "        tuple(list, string): a tuple of two elements\n",
    "            first element: list of dictionaries corresponding to the extracted review information\n",
    "            second element: URL for the next page of reviews (or None if it is the last page)\n",
    "    \"\"\"\n",
    "    reviwList = []\n",
    "    soup = BeautifulSoup(html, \"html.parser\")\n",
    "   \n",
    "    for link in soup.find_all('div', attrs={'class':'review review--with-sidebar'}):\n",
    "        reviewDict = {}\n",
    "        reviewDict[\"review_id\"] = link.get('data-review-id')\n",
    "        reviewDict[\"user_id\"] = link.get('data-signup-object').rsplit(':', 1)[1]\n",
    "        inside = link.find('div', attrs={'class':'review-content'})\n",
    "        reviewDict[\"rating\"] = float ((inside.find('div', attrs={'class':'i-stars'})).get('title')[:3]) \n",
    "        reviewDate = inside.find('span', attrs={'class':'rating-qualifier'}).string\n",
    "        if reviewDate is not None:\n",
    "            reviewDict[\"date\"] = reviewDate.strip()\n",
    "        reviewDict[\"text\"] = inside.find('p', attrs={'lang':'en'}).text\n",
    "        reviwList.append(reviewDict)\n",
    "    \n",
    "    footer = soup.find('div', attrs={'class':'pagination-block'})\n",
    "    nextRef = footer.find('a', attrs={'class':'u-decoration-none next pagination-links_anchor'})\n",
    "    \n",
    "    if nextRef is not None:\n",
    "        nextURL = nextRef.get('href')\n",
    "    else:\n",
    "        nextURL = None       \n",
    "            \n",
    "    return reviwList, nextURL\n",
    "pass\n"
   ]
  },
  {
   "cell_type": "markdown",
   "metadata": {
    "colab_type": "text",
    "id": "LwmuIDW3fYvt"
   },
   "source": [
    "The following function extracts ALL the reviews given a restaurant url."
   ]
  },
  {
   "cell_type": "code",
   "execution_count": 131,
   "metadata": {
    "colab": {
     "autoexec": {
      "startup": false,
      "wait_interval": 0
     }
    },
    "colab_type": "code",
    "collapsed": true,
    "id": "MDjPnaaijR1E"
   },
   "outputs": [],
   "source": [
    "def extract_reviews(url):\n",
    "    \"\"\"\n",
    "    Retrieve ALL of the reviews for a single restaurant on Yelp.\n",
    "\n",
    "    Parameters:\n",
    "        url (string): Yelp URL corresponding to the restaurant of interest.\n",
    "\n",
    "    Returns:\n",
    "        reviews (list): list of dictionaries containing extracted review information\n",
    "    \"\"\"\n",
    "    allReviews=[]\n",
    "    if url is not None:\n",
    "        status, pageHTML = retrieve_html(url)\n",
    "        if status==200:\n",
    "            currentPageReviews, nextURL = parse_my_page(pageHTML)\n",
    "            if nextURL is not None:\n",
    "                allReviews.extend(currentPageReviews)\n",
    "                allReviews.extend(extract_reviews(nextURL))\n",
    "            else:\n",
    "                allReviews.extend(currentPageReviews)\n",
    "    \n",
    "    \n",
    "    return allReviews\n",
    "    pass"
   ]
  },
  {
   "cell_type": "markdown",
   "metadata": {
    "colab": {
     "autoexec": {
      "startup": false,
      "wait_interval": 0
     },
     "base_uri": "https://localhost:8080/",
     "height": 1882
    },
    "colab_type": "code",
    "executionInfo": {
     "elapsed": 533,
     "status": "ok",
     "timestamp": 1525814417009,
     "user": {
      "displayName": "aayush bhardwaj",
      "photoUrl": "//lh3.googleusercontent.com/-Jrw74eIj6RM/AAAAAAAAAAI/AAAAAAAAMUA/8sQLK_c29E4/s50-c-k-no/photo.jpg",
      "userId": "117996357821944499701"
     },
     "user_tz": 240
    },
    "id": "jwnTeF_9zMaV",
    "outputId": "6a1dbdee-6cd1-4dec-e60a-088445ab86ef"
   },
   "source": [
    "Here, we extract reviews for all restaurants and add to the final dataframe."
   ]
  },
  {
   "cell_type": "code",
   "execution_count": 221,
   "metadata": {
    "colab": {
     "autoexec": {
      "startup": false,
      "wait_interval": 0
     },
     "base_uri": "https://localhost:8080/",
     "height": 1023
    },
    "colab_type": "code",
    "id": "hw2vTxjHjR4e",
    "outputId": "6d357c15-2ef7-4a55-f467-80013b6a6f13"
   },
   "outputs": [
    {
     "name": "stdout",
     "output_type": "stream",
     "text": [
      "\n"
     ]
    }
   ],
   "source": [
    "lstDF=[]\n",
    "count=1\n",
    "for idx,row in dfAllRestaurants.iterrows():\n",
    "    a=extract_reviews(row['url'])\n",
    "    \n",
    "    df2=pd.DataFrame(a)\n",
    "    df2['restaurant']=(row['name'])\n",
    "    df2['location']=(row['location'])\n",
    "    df2['categories']=(row['categories'])\n",
    "    df2['url']=(row['url'])\n",
    "    lstDF.append(df2)\n",
    "        \n",
    "\n",
    "knoxvilleRevDF = pd.concat(lstDF)\n",
    "knoxvilleRevDF.to_csv('knoxvilledf.csv', index=False)\n"
   ]
  },
  {
   "cell_type": "markdown",
   "metadata": {},
   "source": [
    "We now merge restaurants, users and reviews information to create our final dataset. (The code shown above is for the extraction of reviews of Knoxville restaurants. We executed the same code for the other locations and merged all the CSVs for the final dataset)"
   ]
  },
  {
   "cell_type": "markdown",
   "metadata": {},
   "source": [
    "The final dataset contains review_id, user_id, text, restaurant, neighborhood, location, rating, categories, data and location"
   ]
  },
  {
   "cell_type": "code",
   "execution_count": 132,
   "metadata": {
    "colab": {
     "autoexec": {
      "startup": false,
      "wait_interval": 0
     },
     "base_uri": "https://localhost:8080/",
     "height": 837
    },
    "colab_type": "code",
    "collapsed": true,
    "executionInfo": {
     "elapsed": 291,
     "status": "error",
     "timestamp": 1525722627139,
     "user": {
      "displayName": "aayush bhardwaj",
      "photoUrl": "//lh3.googleusercontent.com/-Jrw74eIj6RM/AAAAAAAAAAI/AAAAAAAAMUA/8sQLK_c29E4/s50-c-k-no/photo.jpg",
      "userId": "117996357821944499701"
     },
     "user_tz": 240
    },
    "id": "PIYVkv1LClLH",
    "outputId": "46d6013c-cfeb-4607-b04d-c2b9f971d789"
   },
   "outputs": [],
   "source": [
    "finalDF = pd.read_csv(\"finalDF.csv\")"
   ]
  },
  {
   "cell_type": "code",
   "execution_count": 133,
   "metadata": {
    "collapsed": true
   },
   "outputs": [],
   "source": [
    "del finalDF['Unnamed: 0']"
   ]
  },
  {
   "cell_type": "code",
   "execution_count": 135,
   "metadata": {
    "colab": {
     "autoexec": {
      "startup": false,
      "wait_interval": 0
     }
    },
    "colab_type": "code",
    "id": "WowhAGH3ClQ5"
   },
   "outputs": [
    {
     "data": {
      "text/html": [
       "<div>\n",
       "<style>\n",
       "    .dataframe thead tr:only-child th {\n",
       "        text-align: right;\n",
       "    }\n",
       "\n",
       "    .dataframe thead th {\n",
       "        text-align: left;\n",
       "    }\n",
       "\n",
       "    .dataframe tbody tr th {\n",
       "        vertical-align: top;\n",
       "    }\n",
       "</style>\n",
       "<table border=\"1\" class=\"dataframe\">\n",
       "  <thead>\n",
       "    <tr style=\"text-align: right;\">\n",
       "      <th></th>\n",
       "      <th>categories</th>\n",
       "      <th>date</th>\n",
       "      <th>location</th>\n",
       "      <th>neighborhood</th>\n",
       "      <th>rating</th>\n",
       "      <th>restaurant</th>\n",
       "      <th>review_id</th>\n",
       "      <th>text</th>\n",
       "      <th>user_id</th>\n",
       "    </tr>\n",
       "  </thead>\n",
       "  <tbody>\n",
       "    <tr>\n",
       "      <th>0</th>\n",
       "      <td>Thai, Noodles</td>\n",
       "      <td>4/30/2018</td>\n",
       "      <td>242 S Highland Ave</td>\n",
       "      <td>Shadyside</td>\n",
       "      <td>5.0</td>\n",
       "      <td>Noodlehead</td>\n",
       "      <td>c9yLWQ394BEpvvIVeWZ5cQ</td>\n",
       "      <td>The perfect place for incredibly good, incredi...</td>\n",
       "      <td>gfpQPBZGwn7KUedz6B9B2A</td>\n",
       "    </tr>\n",
       "    <tr>\n",
       "      <th>1</th>\n",
       "      <td>Thai, Noodles</td>\n",
       "      <td>5/4/2018</td>\n",
       "      <td>242 S Highland Ave</td>\n",
       "      <td>Shadyside</td>\n",
       "      <td>4.0</td>\n",
       "      <td>Noodlehead</td>\n",
       "      <td>PTMCdI2LbEQv2jWf088b4g</td>\n",
       "      <td>Chang mai curry I'm a fan!Curry is soupier tha...</td>\n",
       "      <td>Lg-rKGTEsxNpnnNsR2tv-g</td>\n",
       "    </tr>\n",
       "    <tr>\n",
       "      <th>2</th>\n",
       "      <td>Thai, Noodles</td>\n",
       "      <td>NaN</td>\n",
       "      <td>242 S Highland Ave</td>\n",
       "      <td>Shadyside</td>\n",
       "      <td>4.0</td>\n",
       "      <td>Noodlehead</td>\n",
       "      <td>WOPWtCTXiki7969sm_PUMQ</td>\n",
       "      <td>Great location and good food. Not too many opt...</td>\n",
       "      <td>tk8ztE5r3DBbpLdTDzVYXA</td>\n",
       "    </tr>\n",
       "    <tr>\n",
       "      <th>3</th>\n",
       "      <td>Thai, Noodles</td>\n",
       "      <td>4/29/2018</td>\n",
       "      <td>242 S Highland Ave</td>\n",
       "      <td>Shadyside</td>\n",
       "      <td>5.0</td>\n",
       "      <td>Noodlehead</td>\n",
       "      <td>KTTCX_VW3v2JqQWQmZdrWg</td>\n",
       "      <td>I've heard so many great things about this pla...</td>\n",
       "      <td>pspJkQgUOap1OjTZVMbdsQ</td>\n",
       "    </tr>\n",
       "    <tr>\n",
       "      <th>4</th>\n",
       "      <td>Thai, Noodles</td>\n",
       "      <td>4/18/2018</td>\n",
       "      <td>242 S Highland Ave</td>\n",
       "      <td>Shadyside</td>\n",
       "      <td>5.0</td>\n",
       "      <td>Noodlehead</td>\n",
       "      <td>s48_WzpKAdyi4NxshNrzWA</td>\n",
       "      <td>Craving Thai in downtown Pittsburgh? Noodlehea...</td>\n",
       "      <td>LX18SF9iQC06DBpS_TQFVA</td>\n",
       "    </tr>\n",
       "  </tbody>\n",
       "</table>\n",
       "</div>"
      ],
      "text/plain": [
       "      categories       date            location neighborhood  rating  \\\n",
       "0  Thai, Noodles  4/30/2018  242 S Highland Ave    Shadyside     5.0   \n",
       "1  Thai, Noodles   5/4/2018  242 S Highland Ave    Shadyside     4.0   \n",
       "2  Thai, Noodles        NaN  242 S Highland Ave    Shadyside     4.0   \n",
       "3  Thai, Noodles  4/29/2018  242 S Highland Ave    Shadyside     5.0   \n",
       "4  Thai, Noodles  4/18/2018  242 S Highland Ave    Shadyside     5.0   \n",
       "\n",
       "   restaurant               review_id  \\\n",
       "0  Noodlehead  c9yLWQ394BEpvvIVeWZ5cQ   \n",
       "1  Noodlehead  PTMCdI2LbEQv2jWf088b4g   \n",
       "2  Noodlehead  WOPWtCTXiki7969sm_PUMQ   \n",
       "3  Noodlehead  KTTCX_VW3v2JqQWQmZdrWg   \n",
       "4  Noodlehead  s48_WzpKAdyi4NxshNrzWA   \n",
       "\n",
       "                                                text                 user_id  \n",
       "0  The perfect place for incredibly good, incredi...  gfpQPBZGwn7KUedz6B9B2A  \n",
       "1  Chang mai curry I'm a fan!Curry is soupier tha...  Lg-rKGTEsxNpnnNsR2tv-g  \n",
       "2  Great location and good food. Not too many opt...  tk8ztE5r3DBbpLdTDzVYXA  \n",
       "3  I've heard so many great things about this pla...  pspJkQgUOap1OjTZVMbdsQ  \n",
       "4  Craving Thai in downtown Pittsburgh? Noodlehea...  LX18SF9iQC06DBpS_TQFVA  "
      ]
     },
     "execution_count": 135,
     "metadata": {},
     "output_type": "execute_result"
    }
   ],
   "source": [
    "finalDF.head()"
   ]
  },
  {
   "cell_type": "markdown",
   "metadata": {
    "colab_type": "text",
    "id": "e0L6ztmxqqSb"
   },
   "source": [
    "### Exploratory Data Analysis"
   ]
  },
  {
   "cell_type": "markdown",
   "metadata": {},
   "source": [
    "The number of reviews in the dataset."
   ]
  },
  {
   "cell_type": "code",
   "execution_count": 140,
   "metadata": {},
   "outputs": [
    {
     "data": {
      "text/plain": [
       "77136"
      ]
     },
     "execution_count": 140,
     "metadata": {},
     "output_type": "execute_result"
    }
   ],
   "source": [
    "len(finalDF.review_id)"
   ]
  },
  {
   "cell_type": "markdown",
   "metadata": {},
   "source": [
    "The number of user IDs (reviewers) in the dataset"
   ]
  },
  {
   "cell_type": "code",
   "execution_count": 137,
   "metadata": {},
   "outputs": [
    {
     "data": {
      "text/plain": [
       "24152"
      ]
     },
     "execution_count": 137,
     "metadata": {},
     "output_type": "execute_result"
    }
   ],
   "source": [
    "len(finalDF.user_id.unique())"
   ]
  },
  {
   "cell_type": "markdown",
   "metadata": {},
   "source": [
    "The number of restaurants in the dataset."
   ]
  },
  {
   "cell_type": "code",
   "execution_count": 138,
   "metadata": {},
   "outputs": [
    {
     "data": {
      "text/plain": [
       "459"
      ]
     },
     "execution_count": 138,
     "metadata": {},
     "output_type": "execute_result"
    }
   ],
   "source": [
    "len(finalDF.restaurant.unique())   "
   ]
  },
  {
   "cell_type": "markdown",
   "metadata": {},
   "source": [
    "The number of reviews in every neighborhood."
   ]
  },
  {
   "cell_type": "code",
   "execution_count": 139,
   "metadata": {
    "scrolled": true
   },
   "outputs": [
    {
     "data": {
      "image/png": "[encoded data removed]",
      "text/plain": [
       "<matplotlib.figure.Figure at 0x2498838a2e8>"
      ]
     },
     "metadata": {},
     "output_type": "display_data"
    },
    {
     "data": {
      "text/plain": [
       "<matplotlib.figure.Figure at 0x249955b3630>"
      ]
     },
     "metadata": {},
     "output_type": "display_data"
    }
   ],
   "source": [
    "sns.countplot(x = 'neighborhood', data = finalDF, palette= 'hls').set(xlabel='Neighborhood', ylabel='Number of Reviews')\n",
    "plt.show()\n",
    "plt.savefig('count_plot')"
   ]
  },
  {
   "cell_type": "markdown",
   "metadata": {},
   "source": [
    "Average rating of restaurants in every neighborhood."
   ]
  },
  {
   "cell_type": "code",
   "execution_count": 141,
   "metadata": {},
   "outputs": [
    {
     "data": {
      "image/png": "[encoded data removed]",
      "text/plain": [
       "<matplotlib.figure.Figure at 0x24995d23128>"
      ]
     },
     "metadata": {},
     "output_type": "display_data"
    }
   ],
   "source": [
    "rating_neigh_df = finalDF.groupby(['neighborhood'])['rating'].mean().reset_index()\n",
    "\n",
    "ax = sns.barplot(x = 'neighborhood', y = 'rating', \n",
    "              data = rating_neigh_df \n",
    "              )\n",
    "ax.set(xlabel='Neighborhood', ylabel='Average Rating')\n",
    "plt.show()\n"
   ]
  },
  {
   "cell_type": "markdown",
   "metadata": {},
   "source": [
    "The number of users (reviewers) in every neighborhood"
   ]
  },
  {
   "cell_type": "code",
   "execution_count": 142,
   "metadata": {},
   "outputs": [
    {
     "data": {
      "image/png": "[encoded data removed]",
      "text/plain": [
       "<matplotlib.figure.Figure at 0x2498830c198>"
      ]
     },
     "metadata": {},
     "output_type": "display_data"
    }
   ],
   "source": [
    "user_neigh_df = finalDF.groupby(['neighborhood'])['user_id'].nunique().reset_index()\n",
    "\n",
    "ax = sns.barplot(x = 'neighborhood', y = 'user_id', \n",
    "              data = user_neigh_df \n",
    "              )\n",
    "ax.set(xlabel='Neighborhood', ylabel='Number of Users')\n",
    "plt.show()"
   ]
  },
  {
   "cell_type": "markdown",
   "metadata": {},
   "source": [
    "The number of restaurants in every neighborhood"
   ]
  },
  {
   "cell_type": "code",
   "execution_count": 143,
   "metadata": {},
   "outputs": [
    {
     "data": {
      "image/png": "[encoded data removed]",
      "text/plain": [
       "<matplotlib.figure.Figure at 0x249e5fb4828>"
      ]
     },
     "metadata": {},
     "output_type": "display_data"
    }
   ],
   "source": [
    "rest_neigh_df = finalDF.groupby(['neighborhood'])['restaurant'].nunique().reset_index()\n",
    "\n",
    "ax = sns.barplot(x = 'neighborhood', y = 'restaurant', \n",
    "              data = rest_neigh_df \n",
    "              )\n",
    "ax.set(xlabel='Neighborhood', ylabel='Number of Restaurants')\n",
    "plt.show()"
   ]
  },
  {
   "cell_type": "markdown",
   "metadata": {},
   "source": [
    "The number of reviews for every rating"
   ]
  },
  {
   "cell_type": "code",
   "execution_count": 144,
   "metadata": {},
   "outputs": [
    {
     "data": {
      "image/png": "[encoded data removed]",
      "text/plain": [
       "<matplotlib.figure.Figure at 0x249883640f0>"
      ]
     },
     "metadata": {},
     "output_type": "display_data"
    },
    {
     "data": {
      "text/plain": [
       "<matplotlib.figure.Figure at 0x24988ca8a58>"
      ]
     },
     "metadata": {},
     "output_type": "display_data"
    }
   ],
   "source": [
    "sns.countplot(x = 'rating', data = finalDF, palette= 'hls').set(xlabel='Rating', ylabel='Number of Reviews')\n",
    "plt.show()\n",
    "plt.savefig('count_plot')"
   ]
  },
  {
   "cell_type": "markdown",
   "metadata": {},
   "source": [
    "### Recommender System"
   ]
  },
  {
   "cell_type": "markdown",
   "metadata": {
    "colab_type": "text",
    "id": "xKREqUKmqxoh"
   },
   "source": [
    "#### Collaborative Filtering\n",
    "\n",
    "We use collaborative filtering to identify patterns of reviewers' preferences towards restaurants to have targeted recommendations. \n",
    "\n",
    "We create a dense matrix holding the ratings of users to restaurants and calculate a similarity score between the users and a similarity score between the restaurants. Imagine our data matrix as a 3D matrix of users as index, restaurants as columns and ratings as values i.e. X = $a_{ij}$ where i = 1,2,.....len(usernames) and j = 1,2,3,4....len(restaurants) and $a_{ij}$ denotes the rating given by user i for restaurant j\n",
    "\n",
    "In collaborative filtering, we factorize our ratings matrix into two smaller feature matrices(U and V) whose product is equal to the original ratings matrix i.e. given a partially filled matrix (Since not every user reviews every restaurant) X, $X\\in \\mathbb{R}^{m\\times n}$, we try to calculate the users feature matrix $U \\in \\mathbb{R}^{m\\times k}$ and restaurants feature matrix $V \\in \\mathbb{R}^{n\\times k}$ such that $UV^T = X$. This forms the basis of our hypothesis function for collaborative filtering: \n",
    "\n",
    "$$h_\\theta(i,j) = u_i^T v_j$$\n",
    "\n",
    "In general, $X$ contains 0's for ratings for users who haven't reviewed that restaurant (and usually quite sparse), which we have indicated with a presence 0. Let $S$ be the set of $(i,j)$ such that $X_{i,j} \\neq 0$, so $S$ is the set of all pairs for which we have a rating. The cost function in this case is the Mean Squared error calculated using the formula below:\n",
    "\n",
    "$$\\ell(h_\\theta(i,j),X_{i,j}) = (h_\\theta(i,j) - X_{i,j})^2$$\n",
    "\n",
    "The last ingredient to collaborative filtering is to impose an $l_2$ weight penalty on the parameters as we have discussed in class for recommendation systems, so our total loss is:\n",
    "\n",
    "$$\\sum_{i,j\\in S}\\ell(h_\\theta(i,j),X_{i,j}) + \\lambda_u ||U||_2^2 + \\lambda_v ||V||_2^2$$ where $\\lambda_u = \\lambda_v = \\lambda$."
   ]
  },
  {
   "cell_type": "markdown",
   "metadata": {
    "colab_type": "text",
    "id": "14Hsr9A6zNxg"
   },
   "source": [
    "#### Alternating Minimization for U and V feature matrix using Alternating Least Squares\n",
    "\n",
    "Now we build the collaborative filtering recommender system using the method described above (alternating least squares). Essentially, we will alternate between optimizing over  U and  V by holding the other constant. By treating one matrix as a constant, we get exactly a weighted least squares problem, which has a well-known solution. "
   ]
  },
  {
   "cell_type": "markdown",
   "metadata": {
    "colab_type": "text",
    "id": "-rRfpyGMz_Uc"
   },
   "source": [
    "#### Data Preprocessing for input Matrix creation"
   ]
  },
  {
   "cell_type": "markdown",
   "metadata": {},
   "source": [
    "The below function creates the train and test matrix by splitting our data in the ratio of 90:10. The matrices have user id as rows, restaurants as columns and ratings as values as explained in the process for collaborative filtering."
   ]
  },
  {
   "cell_type": "code",
   "execution_count": 12,
   "metadata": {
    "colab": {
     "autoexec": {
      "startup": false,
      "wait_interval": 0
     }
    },
    "colab_type": "code",
    "id": "nfBcjCHyzyhQ"
   },
   "outputs": [
    {
     "name": "stdout",
     "output_type": "stream",
     "text": [
      "[[ 0.   0.   5.  ...,  4.5  0.   0. ]\n",
      " [ 0.   0.   0.  ...,  0.   0.   0. ]\n",
      " [ 0.   0.   0.  ...,  0.   0.   0. ]\n",
      " ..., \n",
      " [ 0.   0.   0.  ...,  0.   0.   0. ]\n",
      " [ 0.   0.   0.  ...,  0.   0.   0. ]\n",
      " [ 0.   0.   0.  ...,  0.   0.   0. ]] [[ 0.  0.  0. ...,  0.  0.  0.]\n",
      " [ 0.  0.  0. ...,  0.  0.  0.]\n",
      " [ 0.  0.  0. ...,  0.  0.  0.]\n",
      " ..., \n",
      " [ 0.  0.  0. ...,  0.  0.  0.]\n",
      " [ 0.  0.  0. ...,  0.  0.  0.]\n",
      " [ 0.  0.  0. ...,  0.  0.  0.]] ['Noodlehead', \"Millie's Homemade Ice Cream\", 'Casbah', \"Mercurio's\", 'Spoon']\n"
     ]
    }
   ],
   "source": [
    "def process(reviews, P):\n",
    "    \"\"\" Given a dataframe of ratings and a random permutation, split the data into a training \n",
    "        and a testing set, in matrix form. \n",
    "        \n",
    "        Args: \n",
    "            ratings (dataframe) : dataframe of ratings\n",
    "            restaurants (dataframe) : dataframe of restaurants\n",
    "            P (numpy 1D array) : random permutation vector\n",
    "            \n",
    "        Returns: \n",
    "            (X_tr, X_te, restaurant_names)  : training and testing splits of the ratings matrix (both \n",
    "                                         numpy 2D arrays), and a python list of restaurant names \n",
    "                                         corresponding to the columns of the ratings matrices. \n",
    "    \"\"\"\n",
    "    train_index = P[:math.floor(0.9*len(P))]\n",
    "    test_index = P[math.floor(0.9*len(P)):]\n",
    "        \n",
    "    r = reviews.copy()\n",
    "    \n",
    "    r.loc[test_index, 'rating'] = 0    \n",
    "    train = r.copy()\n",
    "    \n",
    "    q = reviews.copy()    \n",
    "    q.loc[train_index, 'rating'] = 0\n",
    "    \n",
    "    test = q.copy()\n",
    "\n",
    "    tr = train.pivot_table(index='user_id', columns='restaurant', values='rating')\n",
    "    te = test.pivot_table(index='user_id', columns='restaurant', values='rating')\n",
    "    \n",
    "    rest_list = list(reviews.restaurant.unique())\n",
    "      \n",
    "    \n",
    "    X_r = tr.fillna(0).as_matrix()\n",
    "    X_e = te.fillna(0).as_matrix()\n",
    "    \n",
    "    return (X_r,X_e,rest_list)\n",
    "    \n",
    "    \n",
    "    pass\n",
    "\n",
    "X_tr, X_te, rest_list = process(finalDF, np.random.permutation(len(finalDF)))\n",
    "print(X_tr, X_te, rest_list[:5])"
   ]
  },
  {
   "cell_type": "markdown",
   "metadata": {},
   "source": [
    "The below function trains the recommender system using ALS with cost function calculating MSE as per formula discussed above."
   ]
  },
  {
   "cell_type": "code",
   "execution_count": 31,
   "metadata": {
    "colab": {
     "autoexec": {
      "startup": false,
      "wait_interval": 0
     }
    },
    "colab_type": "code",
    "collapsed": true,
    "id": "GfjigR1G0X3h"
   },
   "outputs": [],
   "source": [
    "def error(X, U, V):\n",
    "    \"\"\" Compute the mean error of the observed ratings in X and their estimated values. \n",
    "        Args: \n",
    "            X (numpy 2D array) : a ratings matrix as specified above\n",
    "            U (numpy 2D array) : a matrix of features for each user\n",
    "            V (numpy 2D array) : a matrix of features for each restaurant\n",
    "        Returns: \n",
    "            (float) : the mean squared error of the observed ratings with their estimated values\n",
    "        \"\"\"\n",
    "    w = np.zeros(X.shape)\n",
    "    w[np.where(X!=0)]=1\n",
    "    \n",
    "    X_pred = U@(V.T)\n",
    "    X_err = (X-X_pred)*w\n",
    "    mse = np.mean(X_err**2)\n",
    "    return mse\n",
    "    pass\n",
    "\n",
    "def train(X, X_te, k, U, V, niters=10, lam=10, verbose=False):\n",
    "    \"\"\" Train a collaborative filtering model. \n",
    "        Args: \n",
    "            X (numpy 2D array) : the training ratings matrix as specified above\n",
    "            X_te (numpy 2D array) : the testing ratings matrix as specified above\n",
    "            k (int) : the number of features use in the CF model\n",
    "            U (numpy 2D array) : an initial matrix of features for each user\n",
    "            V (numpy 2D array) : an initial matrix of features for each restaurant\n",
    "            niters (int) : number of iterations to run\n",
    "            lam (float) : regularization parameter\n",
    "            verbose (boolean) : verbosity flag for printing useful messages\n",
    "            \n",
    "        Returns:\n",
    "            (U,V) : A pair of the resulting learned matrix factorization\n",
    "    \"\"\"\n",
    "    m = U.shape[0]\n",
    "    k = U.shape[1]\n",
    "    n = V.shape[0]\n",
    "    \n",
    "   \n",
    "    w = np.zeros(X.shape)\n",
    "    w[np.where(X!=0)]=1\n",
    "    \n",
    "    train_error = {}\n",
    "    test_error = {}\n",
    "    \n",
    "    for itern in range(niters):\n",
    "        for i in range(m):\n",
    "            vi = V[np.where(w[i]!=0)].T\n",
    "            a = vi@vi.T + lam*np.identity(vi.shape[0])\n",
    "            b = vi@X[i].T[np.where(w[i]!=0)]\n",
    "            U[i] = np.linalg.solve(a,b)\n",
    "\n",
    "        for j in range(n):\n",
    "            ui = U[np.where(w.T[j]!=0)].T\n",
    "            a = ui@ui.T + lam*np.identity(ui.shape[0])\n",
    "            b = ui@X.T[j].T[np.where(w.T[j]!=0)]\n",
    "            V[j] = np.linalg.solve(a,b)\n",
    "       \n",
    "        if(verbose):\n",
    "            train_error[itern] = error(X,U[i],V[j])\n",
    "            test_error[itern] = error(X_te,U[i],V[j])\n",
    "   \n",
    "    return (U,V,train_error,test_error, U@V.T)\n",
    "    pass"
   ]
  },
  {
   "cell_type": "markdown",
   "metadata": {},
   "source": [
    "Using alserror function and the graph below we try to perform cross validation to identify k at which minimum error occurs."
   ]
  },
  {
   "cell_type": "code",
   "execution_count": 32,
   "metadata": {
    "collapsed": true
   },
   "outputs": [],
   "source": [
    "def alserror(X, Xhat):\n",
    "    \"\"\" Compute the mean error of the observed ratings in X and their estimated values. \n",
    "        Args: \n",
    "            X (numpy 2D array) : a ratings matrix as specified above\n",
    "            U (numpy 2D array) : a matrix of features for each user\n",
    "            V (numpy 2D array) : a matrix of features for each restaurant\n",
    "        Returns: \n",
    "            (float) : the mean squared error of the observed ratings with their estimated values\n",
    "        \"\"\"\n",
    "    w = np.zeros(X.shape)\n",
    "    w[np.where(X!=0)]=1\n",
    "    \n",
    "\n",
    "    X_err = (X-Xhat)*w\n",
    "    mse = np.mean(X_err**2)\n",
    "    return mse\n",
    "    pass"
   ]
  },
  {
   "cell_type": "code",
   "execution_count": 38,
   "metadata": {},
   "outputs": [
    {
     "data": {
      "text/plain": [
       "<matplotlib.legend.Legend at 0x24987313f98>"
      ]
     },
     "execution_count": 38,
     "metadata": {},
     "output_type": "execute_result"
    },
    {
     "data": {
      "image/png": "[encoded data removed]",
      "text/plain": [
       "<matplotlib.figure.Figure at 0x249872e9a58>"
      ]
     },
     "metadata": {},
     "output_type": "display_data"
    }
   ],
   "source": [
    "k = np.linspace(140,300,20, dtype = int)\n",
    "errors_als_val = {}\n",
    "errors_als_train = {}\n",
    "for i in k:\n",
    "    U = np.random.random((len(finalDF.user_id.unique()),i))\n",
    "    V = np.random.random((len(finalDF.restaurant.unique()),i))\n",
    "    errors_als_val[i] = alserror(X_te,train(X_tr, X_te, i, U, V,verbose=True)[4])\n",
    "\n",
    "plt.plot(errors_als_val.keys(),errors_als_val.values(), label = 'Validation')\n",
    "plt.xlabel('number of Restaurants')\n",
    "plt.ylabel('MSE')\n",
    "plt.legend()"
   ]
  },
  {
   "cell_type": "markdown",
   "metadata": {},
   "source": [
    "From the graph of SVD, we see that the first minimum point occurs with MSE error = 0.0024235 at k = 206. In the below section we calculate the MSE using SVD in similar ways to find which one performs best for recommendation. "
   ]
  },
  {
   "cell_type": "markdown",
   "metadata": {
    "colab_type": "text",
    "id": "J_GjCCv_ms5E"
   },
   "source": [
    "#### Singular Value Decompostion\n",
    "\n",
    "SVD is another popular matrix factorization technique that decomposes a m*n matrix into three matrices as below:\n",
    "\n",
    "$$h_\\theta(i,j) = u_is_iv_j^T$$\n",
    "\n",
    "\n",
    "\n",
    "The matrix s is a diagonal matrix containing the singular values of the matrix X. There are exactly m singular values, where m is the rank of X. To compare restaurants, if most users who like one also like the other, we can simply keep the first k singular values in s, where k<m. This will give us the best rank-k approximation to X, and thus has effectively reduced the dimensionality of our original space. \n",
    "\n",
    "We proceed to calculate the U,S,V matrices for this method using the sparse.linalg svds library from scipy.sparse as can be seen from below methods"
   ]
  },
  {
   "cell_type": "markdown",
   "metadata": {},
   "source": [
    "###### Cross Validation SVD\n",
    "We try to identify the best k that gives the least possible MSE for our recommender system test case. Below two functions help in accomplishing the same."
   ]
  },
  {
   "cell_type": "code",
   "execution_count": 25,
   "metadata": {
    "collapsed": true
   },
   "outputs": [],
   "source": [
    "def svd(k):\n",
    "    u,s,v = svds(X_tr,k)\n",
    "    s_diag = np.diag(s)\n",
    "    Xhat = np.dot(np.dot(u,s_diag),v)\n",
    "    return u,s_diag,v,Xhat"
   ]
  },
  {
   "cell_type": "code",
   "execution_count": 26,
   "metadata": {
    "collapsed": true
   },
   "outputs": [],
   "source": [
    "def svderror(X, Xhat):\n",
    "    \"\"\" Compute the mean error of the observed ratings in X and their estimated values. \n",
    "        Args: \n",
    "            X (numpy 2D array) : a ratings matrix as specified above\n",
    "            U (numpy 2D array) : a matrix of features for each user\n",
    "            V (numpy 2D array) : a matrix of features for each restaurant\n",
    "        Returns: \n",
    "            (float) : the mean squared error of the observed ratings with their estimated values\n",
    "        \"\"\"\n",
    "    w = np.zeros(X.shape)\n",
    "    w[np.where(X!=0)]=1\n",
    "    \n",
    "#     X_pred = U@S@(V.T)\n",
    "    X_err = (X-Xhat)*w\n",
    "    mse = np.mean(X_err**2)\n",
    "    return mse\n",
    "    pass\n"
   ]
  },
  {
   "cell_type": "code",
   "execution_count": 30,
   "metadata": {
    "colab": {
     "autoexec": {
      "startup": false,
      "wait_interval": 0
     }
    },
    "colab_type": "code",
    "id": "SPoozL8K0Jvd"
   },
   "outputs": [
    {
     "data": {
      "text/plain": [
       "<matplotlib.legend.Legend at 0x2498569b2e8>"
      ]
     },
     "execution_count": 30,
     "metadata": {},
     "output_type": "execute_result"
    },
    {
     "data": {
      "image/png": "[encoded data removed]",
      "text/plain": [
       "<matplotlib.figure.Figure at 0x2498569bfd0>"
      ]
     },
     "metadata": {},
     "output_type": "display_data"
    }
   ],
   "source": [
    "k = np.linspace(2,200,20, dtype = int)\n",
    "errors_svd_val = {}\n",
    "errors_svd_train = {}\n",
    "for i in k:\n",
    "    errors_svd_val[i] = svderror(X_te,svd(i)[3])\n",
    "    errors_svd_train[i] = svderror(X_tr,svd(i)[3])\n",
    "\n",
    "plt.plot(errors_svd_val.keys(),errors_svd_val.values(), label = 'Validation')\n",
    "plt.xlabel('the number of features use in the CF model')\n",
    "plt.ylabel('MSE')\n",
    "plt.legend()"
   ]
  },
  {
   "cell_type": "markdown",
   "metadata": {},
   "source": [
    "From above figure we see that minimum occurs at k=100 where MSE is approximately 0.0055 but the error is more than Alternating least squares hence we consider ALS to be our final model for the recommendation. "
   ]
  },
  {
   "cell_type": "markdown",
   "metadata": {
    "colab_type": "text",
    "id": "7aMVoKq51K59"
   },
   "source": [
    " ### Results\n",
    " \n",
    "As mentioned above, ALS performs slightly better than SVD at k=206 it has the lowest MSE, so now lets try to build the best restaurant recommendation list for each of our users using ALS below"
   ]
  },
  {
   "cell_type": "code",
   "execution_count": 40,
   "metadata": {
    "collapsed": true
   },
   "outputs": [],
   "source": [
    "U = np.random.random((len(finalDF.user_id.unique()),206))\n",
    "V = np.random.random((len(finalDF.restaurant.unique()),206))\n",
    "newU,newV = train(X_tr, X_te, 206, U, V,verbose=False)[0],train(X_tr, X_te, 206, U, V,verbose=False)[1]"
   ]
  },
  {
   "cell_type": "code",
   "execution_count": 41,
   "metadata": {
    "colab": {
     "autoexec": {
      "startup": false,
      "wait_interval": 0
     }
    },
    "colab_type": "code",
    "id": "cfpMmZ6g1aWR"
   },
   "outputs": [
    {
     "name": "stdout",
     "output_type": "stream",
     "text": [
      "[\"Buford's Kitchen\", 'Stagioni', 'Stagioni', 'Dinette', 'Stagioni', 'Stagioni', \"Alexander's Italian Bistro\", 'The Bistro At Courtyard by Marriott Shadyside', 'Sausalido', 'The Bistro At Courtyard by Marriott Shadyside']\n"
     ]
    }
   ],
   "source": [
    "def recommend(X, U, V, rest_list):\n",
    "    \"\"\" Recommend a new restaurant for every user.\n",
    "        Args: \n",
    "            X (numpy 2D array) : the training ratings matrix as specified above\n",
    "            U (numpy 2D array) : a learned matrix of features for each user\n",
    "            V (numpy 2D array) : a learned matrix of features for each restaurant\n",
    "            rec_rest : a list of restaurant names corresponding to the columns of the ratings matrix\n",
    "        Returns\n",
    "            (list) : a list of restaurant names recommended for each user\n",
    "    \"\"\"\n",
    "    \n",
    "    rec_rest = []\n",
    "    \n",
    "    p = np.zeros(X.shape)    \n",
    "    p[np.where(X==0)]=1\n",
    "    \n",
    "    x_pred = U@(V.T)*p       \n",
    "    max_user = np.argmax(x_pred, axis=1)\n",
    "    \n",
    "    for i in max_user:\n",
    "        rec_rest.append(rest_list[i])\n",
    "    \n",
    "    return rec_rest    \n",
    "    pass\n",
    "    \n",
    "recommendations = recommend(X_te, newU, newV,rest_list)\n",
    "print(recommendations[:10])"
   ]
  },
  {
   "cell_type": "markdown",
   "metadata": {},
   "source": [
    "The result above gives recommended restaurants for the users. The first restaurant corresponds to the first user, the second to the second user, and so on. "
   ]
  },
  {
   "cell_type": "markdown",
   "metadata": {},
   "source": [
    "#### Test Case \n",
    "Now, we pick a random user and look at his reviewed restaurants. We compare this to the recommended restaurants from our model."
   ]
  },
  {
   "cell_type": "code",
   "execution_count": 214,
   "metadata": {},
   "outputs": [
    {
     "name": "stdout",
     "output_type": "stream",
     "text": [
      "                restaurant  rating                                  categories\n",
      "40943    The Smiling Moose     5.0  Bars, Music Venues, American (Traditional)\n",
      "42270  Mallorca Restaurant     5.0                Spanish, Seafood, Portuguese\n"
     ]
    }
   ],
   "source": [
    "random.seed(1)\n",
    "unique_users = list(finalDF['user_id'].unique())\n",
    "random_user_id = random.choice(unique_users)\n",
    "rest_of_users = finalDF.loc[finalDF['user_id'] == random_user_id]\n",
    "print(rest_of_users[['restaurant', 'rating', 'categories']].sort_values(by=['rating'], ascending=False))"
   ]
  },
  {
   "cell_type": "code",
   "execution_count": 215,
   "metadata": {},
   "outputs": [
    {
     "name": "stdout",
     "output_type": "stream",
     "text": [
      "Recommended Restaurant: The Bistro At Courtyard by Marriott Shadyside\n",
      "Categories: Bars, Cafes, Coffee & Tea\n"
     ]
    }
   ],
   "source": [
    "rest_recommended = recommendations[unique_users.index(random_user_id)]\n",
    "print (\"Recommended Restaurant:\", rest_recommended)\n",
    "print(\"Categories:\", finalDF.loc[finalDF['restaurant']== rest_recommended]['categories'].tolist()[0])"
   ]
  },
  {
   "cell_type": "markdown",
   "metadata": {},
   "source": [
    "As can be seen above, the recommender system recommends the user on the basis of his/her top rated restaurants. In this case, the user rated 'The Smiling Moose' and 'Mallorca' restaurants high, and thus the recommender system recommended a similar category restaurant to the user- 'The Bistro At Courtyard by Marriott Shadyside'. "
   ]
  },
  {
   "cell_type": "markdown",
   "metadata": {
    "colab_type": "text",
    "id": "wvRBOCwG1UOr"
   },
   "source": [
    "### Conclusions Limitations and Further work\n",
    "\n",
    "From our analysis and measures of accuracy,  it is clear that alternating least squares method which uses collaborative filtering does a very successful job to build a restaurant recommender system in this case. \n",
    "\n",
    "Further work:\n",
    "\n",
    "1. Analysis of review text sentiments in calculating similarity scores can make the recommender system more comprehensive. This can be done using unsupervised learning algorithms like Gaussian Mixture Models. \n",
    "2. Better handling of missing data for restaurant names, reviews etc. will greatly help the user-item interaction scores there-by improving our model.\n",
    "3. Restaurant-restaurant interactions can be worked on for recommender systems by studying the similarity between restaurants.\n",
    "4. User-user interactions can be made by studying demographics of users, their interactions with other users (through social media analysis) to build a robust restaurant recommender system. \n",
    "\n",
    "Limitations:\n",
    "\n",
    "Since we haven't worked on user-user interactions (due to lack of availability of data), this system will not do well when a new user comes in and there are no previous reviews to analyse. \n",
    "\n",
    "Further studies on the topic can be done using the following links:\n",
    "\n",
    "https://www.coursera.org/specializations/recommender-systems\n",
    "\n",
    "http://infolab.stanford.edu/~ullman/mmds/ch9.pdf\n",
    "\n",
    "https://medium.com/recombee-blog/recommender-systems-explained-d98e8221f468\n",
    "\n",
    "https://www.math.uci.edu/icamp/summer/research/student_research/recommender_systems_slides.pdf\n",
    "\n"
   ]
  },
  {
   "cell_type": "markdown",
   "metadata": {},
   "source": [
    "### References\n",
    "1. http://www.cs.carleton.edu/cs_comps/0607/recommend/recommender/svd.html\n",
    "2. http://www.datasciencecourse.org/notes/recommender/\n",
    "3. http://cs229.stanford.edu/proj2013/SawantPai-YelpFoodRecommendationSystem.pdf\n",
    "4. https://en.wikipedia.org/wiki/Collaborative_filtering\n"
   ]
  }
 ],
 "metadata": {
  "colab": {
   "collapsed_sections": [],
   "default_view": {},
   "name": "Project_PDS.ipynb",
   "provenance": [],
   "version": "0.3.2",
   "views": {}
  },
  "kernelspec": {
   "display_name": "Python 3",
   "language": "python",
   "name": "python3"
  },
  "language_info": {
   "codemirror_mode": {
    "name": "ipython",
    "version": 3
   },
   "file_extension": ".py",
   "mimetype": "text/x-python",
   "name": "python",
   "nbconvert_exporter": "python",
   "pygments_lexer": "ipython3",
   "version": "3.6.3"
  }
 },
 "nbformat": 4,
 "nbformat_minor": 1
}
